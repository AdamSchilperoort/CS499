{
 "cells": [
  {
   "cell_type": "markdown",
   "metadata": {},
   "source": [
    "                                                                                                                                                                                                                                                                                                                                                                                                                                                                                                                                                                                                                                                                                                                                                                                                                                                                                                                                                                                                                                                                                                                                                                                                                                                                                                                                                                                                                                                                                                                                                                                                                                                                                                                                                                                                                                                                                                                                                                                                                                                                                                                                                                                                                                                                                                                                                                                                                                                                                                                                                                                                                                                                                                                                                                                        # Lab01: Finding Paths in Networks"
   ]
  },
  {
   "cell_type": "markdown",
   "metadata": {},
   "source": [
    "### Check List for Lab01 ###\n",
    "\n",
    "- [ ] Implement shortestPath() correctly **(30 pts)**\n",
    "- [ ] Implement averagePath() correctly **(30 pts)**\n",
    "- [ ] Implement networkDiameter() correctly **(30 pts)**\n",
    "- [ ] Include comments throughout the code that you write **(5 pts)**\n",
    "- [ ] Correct labeling scheme used for your submitted IPYNB: *lastname_firstname*\\_cs499_lab01.ipynb **(5 pts)**\n",
    "    - <span style=\"color:red\">**Failure to correctly label your submission will result in a zero grade for the assignment.**"
   ]
  },
  {
   "cell_type": "markdown",
   "metadata": {
    "collapsed": true
   },
   "source": [
    "## Part 1: Calculating the Shortest Path\n",
    "\n",
    "Use Dijkstra's shortest path algorithm to calculate the shortest path between any two nodes in a graph. The function signature (function name and parameters) are provided. You can use the Karate Club graph as the graph input. \n",
    "\n",
    "You may only use the NetworkX nodes() and edges() functions. "
   ]
  },
  {
   "cell_type": "code",
   "execution_count": 3,
   "metadata": {},
   "outputs": [],
   "source": [
    "import networkx as nx\n",
    "\n",
    "# If you would like to use the Karate Club graph to test with\n",
    "G = nx.karate_club_graph()\n",
    "\n",
    "\n",
    "# shortestPath takes in\n",
    "# G: A networkx graph (directed or undirected)\n",
    "# src: The id of the src node\n",
    "# dst: The id of the dst node\n",
    "def shortestPath(G, src, dst):\n",
    "    # TODO: Implement Dijkstra's shortest path algorithm"
   ]
  },
  {
   "cell_type": "markdown",
   "metadata": {},
   "source": [
    "This is where I will test your shortestPath function. You can test your implementation against the NetworkX function that calculates single source shortest paths for all nodes to a single source. "
   ]
  },
  {
   "cell_type": "code",
   "execution_count": 6,
   "metadata": {},
   "outputs": [
    {
     "data": {
      "text/plain": [
       "{0: 1,\n",
       " 1: 1,\n",
       " 2: 0,\n",
       " 3: 1,\n",
       " 4: 2,\n",
       " 5: 2,\n",
       " 6: 2,\n",
       " 7: 1,\n",
       " 8: 1,\n",
       " 9: 1,\n",
       " 10: 2,\n",
       " 11: 2,\n",
       " 12: 2,\n",
       " 13: 1,\n",
       " 14: 2,\n",
       " 15: 2,\n",
       " 16: 3,\n",
       " 17: 2,\n",
       " 18: 2,\n",
       " 19: 2,\n",
       " 20: 2,\n",
       " 21: 2,\n",
       " 22: 2,\n",
       " 23: 2,\n",
       " 24: 2,\n",
       " 25: 3,\n",
       " 26: 3,\n",
       " 27: 1,\n",
       " 28: 1,\n",
       " 29: 2,\n",
       " 30: 2,\n",
       " 31: 2,\n",
       " 32: 1,\n",
       " 33: 2}"
      ]
     },
     "execution_count": 6,
     "metadata": {},
     "output_type": "execute_result"
    }
   ],
   "source": [
    "shortestPath(G, 2, 33)\n",
    "nx.single_source_shortest_path_length(G, 2)"
   ]
  },
  {
   "cell_type": "markdown",
   "metadata": {},
   "source": [
    "## Part 2: Calculate the Average Path Length"
   ]
  },
  {
   "cell_type": "markdown",
   "metadata": {},
   "source": [
    "In this part of the lab, you will write a program to calculate the average path length associated with a network. You may only use the NetworkX edges() and nodes() functions for calculating the average path length. You may use any of the functions you have implemented as part of this lab. \n",
    "\n"
   ]
  },
  {
   "cell_type": "code",
   "execution_count": null,
   "metadata": {
    "collapsed": true
   },
   "outputs": [],
   "source": [
    "# averagePath takes in\n",
    "# G: A networkx graph (directed or undirected)\n",
    "def averagePath(G):\n",
    "    # TODO Implement averagePath"
   ]
  },
  {
   "cell_type": "markdown",
   "metadata": {},
   "source": [
    "This is where I will test your implementation of averagePath(). You can test your implementation against the testedAveragePathLength() function. "
   ]
  },
  {
   "cell_type": "code",
   "execution_count": 4,
   "metadata": {},
   "outputs": [
    {
     "data": {
      "text/plain": [
       "2.408199643493761"
      ]
     },
     "execution_count": 4,
     "metadata": {},
     "output_type": "execute_result"
    }
   ],
   "source": [
    "def testedAveragePathLength(G):\n",
    "    return nx.average_shortest_path_length(G)\n",
    "    \n",
    "testedAveragePathLength(G)\n",
    "averagePathLength(G)\n"
   ]
  },
  {
   "cell_type": "markdown",
   "metadata": {},
   "source": [
    "## Part 3: Calculate the Diameter"
   ]
  },
  {
   "cell_type": "markdown",
   "metadata": {},
   "source": [
    "In this part of the lab, you will write a program to calculate the diameter of a network. You may only use the NetworkX edges() and nodes() functions for calculating the average path length. You may use any of the functions you have implemented as part of this lab. "
   ]
  },
  {
   "cell_type": "code",
   "execution_count": null,
   "metadata": {
    "collapsed": true
   },
   "outputs": [],
   "source": [
    "# networkDiameter takes in\n",
    "# G: A networkx graph (directed or undirected)\n",
    "def networkDiameter(G):\n",
    "    # TODO Implement networkDiameter"
   ]
  },
  {
   "cell_type": "markdown",
   "metadata": {},
   "source": [
    "This is where I will test your implementation of networkDiameter(). You can test your implementation against the diameter() function."
   ]
  },
  {
   "cell_type": "code",
   "execution_count": null,
   "metadata": {
    "collapsed": true
   },
   "outputs": [],
   "source": [
    "networkDiameter(G)\n",
    "nx.diameter(G)"
   ]
  }
 ],
 "metadata": {
  "kernelspec": {
   "display_name": "Python 2",
   "language": "python",
   "name": "python2"
  },
  "language_info": {
   "codemirror_mode": {
    "name": "ipython",
    "version": 2
   },
   "file_extension": ".py",
   "mimetype": "text/x-python",
   "name": "python",
   "nbconvert_exporter": "python",
   "pygments_lexer": "ipython2",
   "version": "2.7.15"
  }
 },
 "nbformat": 4,
 "nbformat_minor": 2
}
