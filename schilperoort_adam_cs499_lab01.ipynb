{
 "cells": [
  {
   "cell_type": "markdown",
   "metadata": {},
   "source": [
    "# Lab01: Finding Paths in Networks"
   ]
  },
  {
   "cell_type": "markdown",
   "metadata": {},
   "source": [
    "### Check List for Lab01 ###\n",
    "\n",
    "- [ ] Implement shortestPath() correctly **(30 pts)**\n",
    "- [ ] Implement averagePath() correctly **(30 pts)**\n",
    "- [ ] Implement networkDiameter() correctly **(30 pts)**\n",
    "- [ ] Include comments throughout the code that you write **(5 pts)**\n",
    "- [ ] Correct labeling scheme used for your submitted IPYNB: *lastname_firstname*\\_cs499_lab01.ipynb **(5 pts)**\n",
    "    - <span style=\"color:red\">**Failure to correctly label your submission will result in a zero grade for the assignment.**"
   ]
  },
  {
   "cell_type": "markdown",
   "metadata": {
    "collapsed": true
   },
   "source": [
    "## Part 1: Calculating the Shortest Path\n",
    "\n",
    "Use Dijkstra's shortest path algorithm to calculate the shortest path between any two nodes in a graph. The function signature (function name and parameters) are provided. You can use the Karate Club graph as the graph input. "
   ]
  },
  {
   "cell_type": "markdown",
   "metadata": {},
   "source": [
    "### Check List for shortestPath() ###\n",
    "\n",
    "- [ ] Calculates the length of the shortest path between the src and dst nodes.\n",
    "- [ ] Does NOT use any of the NetworkX shortest path functions such as networkx.single_source_shortest_path_length()\n",
    "- [ ] Is able to handle directed and undirected networks as input\n",
    "- [ ] Will be tested against both directed and undirected networks\n",
    "\n",
    "*Note that you do not need to support weighted networks, altough implementing this would make for an excellent stretch goal for this lab*"
   ]
  },
  {
   "cell_type": "code",
   "execution_count": 3,
   "metadata": {},
   "outputs": [],
   "source": [
    "import networkx as nx\n",
    "\n",
    "#Test undirected graph\n",
    "G = nx.karate_club_graph()\n",
    "\n",
    "#Test directed graph\n",
    "#G = nx.generators.directed.random_k_out_graph(10, 3, 0.5)\n",
    "\n",
    "# shortestPath takes in\n",
    "# G: A networkx graph (directed or undirected)\n",
    "# src: The id of the src node\n",
    "# dst: The id of the dst node\n",
    "def shortestPath(G, src, dst):\n",
    "\n",
    "    #print('\\nInitializing shortest path algorithm from node ' + str(src) + ' to node ' + str(dst))\n",
    "    \n",
    "    #declare value of infinity for our purposes\n",
    "    inf = 999999\n",
    "\n",
    "    #declare our list of visited nodes\n",
    "    visitedNodes = []\n",
    "\n",
    "    #declare our list for tuples of (node, distance)\n",
    "    nodeAndDistance = []\n",
    "\n",
    "    #declare our unvisited nodes\n",
    "    unvisitedNodes = []\n",
    "\n",
    "    #used for display\n",
    "    #print('\\nInitializing the (node, distance) tuples!\\n')\n",
    "    #i = 0\n",
    "\n",
    "    #set our tuple values for node and distance\n",
    "    for node in G.nodes:\n",
    "        \n",
    "        unvisitedNodes.append(node)\n",
    "        \n",
    "        #set distance at source node to 0\n",
    "        if node == src:\n",
    "            nodeAndDistance.append((node,0))\n",
    "            \n",
    "        #set all other distances to infinity\n",
    "        else:\n",
    "            nodeAndDistance.append((node,inf))\n",
    "            \n",
    "        #display for showing new tuple added\n",
    "        #print(nodeAndDistance[i])\n",
    "        #i+=1\n",
    "    \n",
    "    #used for display\n",
    "    #print('\\nBegin traversal starting with node ' + str(src))\n",
    "    \n",
    "    #loop through unvisited node list until empty\n",
    "    while len(unvisitedNodes) != 0:\n",
    "        \n",
    "        #find unvisited node with smallest distance value\n",
    "        smallestDistNode = src\n",
    "        smallestDistance = inf\n",
    "        for node in unvisitedNodes:\n",
    "            if nodeAndDistance[node][1] <= smallestDistance:\n",
    "                smallestDistance = nodeAndDistance[node][1]\n",
    "                smallestDistNode = node\n",
    "            \n",
    "        #now that we have the smallest dist node, go to it\n",
    "        currentNode = smallestDistNode\n",
    "        \n",
    "        #for tracing node traversal order\n",
    "        #print('\\nCurrent node: ' + str(currentNode))\n",
    "        \n",
    "        #now that we are at the node, move from unvisited to visited\n",
    "        visitedNodes.append(currentNode)\n",
    "        unvisitedNodes.remove(currentNode)\n",
    "        \n",
    "        #get neighbor nodes to current node\n",
    "        currentNeighbors = list(G.neighbors(currentNode))\n",
    "        \n",
    "        #for printing list of neighbors at current node\n",
    "        #print('List of Neighbors: ' + str(currentNeighbors))\n",
    "        \n",
    "        #loop through neighbor nodes to check/change distance values\n",
    "        for neighbor in currentNeighbors:\n",
    "            currentDistance = nodeAndDistance[neighbor][1]\n",
    "            newDistance = nodeAndDistance[currentNode][1] + 1\n",
    "            \n",
    "            #if new distance is less than current distance, set to new distance\n",
    "            if newDistance < currentDistance:\n",
    "                \n",
    "                #replace with new distance (have to remove, tuples are immutable)\n",
    "                nodeAndDistance.remove((neighbor, currentDistance))\n",
    "                nodeAndDistance.insert(neighbor, (neighbor,newDistance))\n",
    "        \n",
    "    #print('\\nDisplay (node, distance) tuples from traversal in order traversed:')\n",
    "    #for node in visitedNodes:\n",
    "        #print(nodeAndDistance[node])\n",
    "    \n",
    "    result = nodeAndDistance[dst][1]\n",
    "    #print('Thus, since we want the distance from ' +str(src)+ ' to ' +str(dst)+ \n",
    "          #' the result is: ' +str(result))\n",
    "        \n",
    "    #return for utilizing the value of algorithm in other methods\n",
    "    return result\n"
   ]
  },
  {
   "cell_type": "markdown",
   "metadata": {},
   "source": [
    "This is where I will test your shortestPath function. You can test your implementation against the NetworkX function that calculates single source shortest paths for all nodes to a single source. "
   ]
  },
  {
   "cell_type": "code",
   "execution_count": 4,
   "metadata": {},
   "outputs": [
    {
     "name": "stdout",
     "output_type": "stream",
     "text": [
      "1\n"
     ]
    },
    {
     "data": {
      "text/plain": [
       "{1: 0,\n",
       " 0: 1,\n",
       " 2: 1,\n",
       " 3: 1,\n",
       " 7: 1,\n",
       " 13: 1,\n",
       " 17: 1,\n",
       " 19: 1,\n",
       " 21: 1,\n",
       " 30: 1,\n",
       " 4: 2,\n",
       " 5: 2,\n",
       " 6: 2,\n",
       " 8: 2,\n",
       " 10: 2,\n",
       " 11: 2,\n",
       " 12: 2,\n",
       " 31: 2,\n",
       " 9: 2,\n",
       " 27: 2,\n",
       " 28: 2,\n",
       " 32: 2,\n",
       " 33: 2,\n",
       " 16: 3,\n",
       " 24: 3,\n",
       " 25: 3,\n",
       " 23: 3,\n",
       " 14: 3,\n",
       " 15: 3,\n",
       " 18: 3,\n",
       " 20: 3,\n",
       " 22: 3,\n",
       " 29: 3,\n",
       " 26: 3}"
      ]
     },
     "execution_count": 4,
     "metadata": {},
     "output_type": "execute_result"
    }
   ],
   "source": [
    "print(shortestPath(G, 1, 3))\n",
    "nx.single_source_shortest_path_length(G, 1)"
   ]
  },
  {
   "cell_type": "markdown",
   "metadata": {},
   "source": [
    "## Part 2: Calculate the Average Path Length"
   ]
  },
  {
   "cell_type": "markdown",
   "metadata": {},
   "source": [
    "In this part of the lab, you will write a program to calculate the average path length associated with a network. You may use any of the functions you have implemented as part of this lab. \n",
    "\n",
    "- [ ] Calculates the average shortest path length for all pairs of nodes in the network. Returns a float representing this value.\n"
   ]
  },
  {
   "cell_type": "code",
   "execution_count": 5,
   "metadata": {},
   "outputs": [],
   "source": [
    "# averagePath takes in\n",
    "# G: A networkx graph (directed or undirected)\n",
    "def averagePath(G):\n",
    "    \n",
    "    #initialize list\n",
    "    listOfNodes = []\n",
    "    \n",
    "    totalIterations = 0\n",
    "    totalDistanceValue = 0\n",
    "    \n",
    "    #loop through all nodes, add to list\n",
    "    for node in G.nodes:\n",
    "        listOfNodes.append(node)\n",
    "        \n",
    "    #nested for loop to generate every possible combination of tuples (src,dst) for all nodes\n",
    "    for outerIndex in range (0, len(listOfNodes)):\n",
    "        for innerIndex in range ((outerIndex + 1), len(listOfNodes)):\n",
    "            \n",
    "            #for each possible (src,dst), add its distance value to the total and increment\n",
    "            totalDistanceValue += shortestPath(G, outerIndex, innerIndex)\n",
    "            totalIterations += 1\n",
    "            \n",
    "      \n",
    "    #divide total distance by number of iterations to generate average\n",
    "    result = totalDistanceValue / totalIterations        \n",
    "    #print('\\nThe average path length is: ' + str(result))\n",
    "            \n",
    "    return result "
   ]
  },
  {
   "cell_type": "markdown",
   "metadata": {},
   "source": [
    "This is where I will test your implementation of averagePath(). You can test your implementation against the testedAveragePathLength() function. "
   ]
  },
  {
   "cell_type": "code",
   "execution_count": 6,
   "metadata": {},
   "outputs": [
    {
     "name": "stdout",
     "output_type": "stream",
     "text": [
      "2.408199643493761\n",
      "2.408199643493761\n"
     ]
    }
   ],
   "source": [
    "def testedAveragePathLength(G):\n",
    "    return nx.average_shortest_path_length(G)\n",
    "    \n",
    "#test the networkx testedaveragePathLength()\n",
    "print(testedAveragePathLength(G))\n",
    "\n",
    "#test my averagePath implementation\n",
    "print(averagePath(G))\n",
    "\n"
   ]
  },
  {
   "cell_type": "markdown",
   "metadata": {},
   "source": [
    "## Part 3: Calculate the Diameter"
   ]
  },
  {
   "cell_type": "markdown",
   "metadata": {},
   "source": [
    "In this part of the lab, you will write a program to calculate the diameter of a network. You may use any of the functions you have implemented as part of this lab. "
   ]
  },
  {
   "cell_type": "code",
   "execution_count": 8,
   "metadata": {},
   "outputs": [],
   "source": [
    "# networkDiameter takes in\n",
    "# G: A networkx graph (directed or undirected)\n",
    "def networkDiameter(G):\n",
    "    \n",
    "    listOfNodes = []\n",
    "    \n",
    "    maxDistance = 0\n",
    "    \n",
    "    #loop through nodes, add all to list\n",
    "    for node in G.nodes:\n",
    "        listOfNodes.append(node)\n",
    "        \n",
    "    #nested for to generate all possible (src,dst) tuples\n",
    "    for outerIndex in range (0, len(listOfNodes)):\n",
    "        for innerIndex in range ((outerIndex + 1), len(listOfNodes)):\n",
    "            \n",
    "            #calculate the shortest path for each src,dst\n",
    "            currentDistance = shortestPath(G, outerIndex, innerIndex)\n",
    "            \n",
    "            #get max distance of all combinations, so longest shortest path\n",
    "            if currentDistance > maxDistance:\n",
    "                maxDistance = currentDistance\n",
    "                \n",
    "    return maxDistance"
   ]
  },
  {
   "cell_type": "markdown",
   "metadata": {},
   "source": [
    "This is where I will test your implementation of networkDiameter(). You can test your implementation against the diameter() function."
   ]
  },
  {
   "cell_type": "code",
   "execution_count": 9,
   "metadata": {},
   "outputs": [
    {
     "name": "stdout",
     "output_type": "stream",
     "text": [
      "5\n",
      "5\n"
     ]
    }
   ],
   "source": [
    "print(networkDiameter(G))\n",
    "print(nx.diameter(G))"
   ]
  },
  {
   "cell_type": "code",
   "execution_count": null,
   "metadata": {},
   "outputs": [],
   "source": []
  }
 ],
 "metadata": {
  "kernelspec": {
   "display_name": "Python 3",
   "language": "python",
   "name": "python3"
  },
  "language_info": {
   "codemirror_mode": {
    "name": "ipython",
    "version": 3
   },
   "file_extension": ".py",
   "mimetype": "text/x-python",
   "name": "python",
   "nbconvert_exporter": "python",
   "pygments_lexer": "ipython3",
   "version": "3.7.3"
  }
 },
 "nbformat": 4,
 "nbformat_minor": 2
}
