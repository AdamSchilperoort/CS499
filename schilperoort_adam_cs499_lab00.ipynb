{
 "cells": [
  {
   "cell_type": "code",
   "execution_count": 8,
   "metadata": {},
   "outputs": [
    {
     "data": {
      "image/png": "[encoded data removed]",
      "text/plain": [
       "<Figure size 432x288 with 1 Axes>"
      ]
     },
     "metadata": {},
     "output_type": "display_data"
    }
   ],
   "source": [
    "# Question 0: creating a network with NetworkX which looks like original graph.gif\n",
    "\n",
    "import networkx as nx\n",
    "import matplotlib.pyplot as plt\n",
    "\n",
    "# Create a complex network with Graph\n",
    "G = nx.Graph()\n",
    "\n",
    "# Add nodes A to G\n",
    "G.add_node(\"A\")\n",
    "G.add_node(\"B\")\n",
    "G.add_node(\"C\")\n",
    "G.add_node(\"D\")\n",
    "G.add_node(\"E\")\n",
    "G.add_node(\"F\")\n",
    "G.add_node(\"G\")\n",
    "\n",
    "# Add edges between nodes with corresponding weights\n",
    "G.add_edge(\"A\",\"B\", weight = 2)\n",
    "G.add_edge(\"A\",\"D\", weight = 3)\n",
    "G.add_edge(\"B\",\"C\", weight = 3)\n",
    "G.add_edge(\"B\",\"E\", weight = 2)\n",
    "G.add_edge(\"D\",\"F\", weight = 4)\n",
    "G.add_edge(\"D\",\"G\", weight = 1)\n",
    "G.add_edge(\"B\",\"F\", weight = 1)\n",
    "G.add_edge(\"E\",\"F\", weight = 3)\n",
    "G.add_edge(\"G\",\"F\", weight = 7)\n",
    "\n",
    "# Create labels for weights (this should work but doesn't for some reason)\n",
    "labels=nx.get_edge_attributes(G,'weight')\n",
    "\n",
    "# Create a subplot to draw network\n",
    "plt.subplot(121)\n",
    "\n",
    "# Draw G\n",
    "nx.draw(G, with_labels=True, node_size=800, node_color='r', edge_labels=labels, font_family='sans-serif')\n",
    "\n",
    "# Show the drawing\n",
    "plt.show()"
   ]
  },
  {
   "cell_type": "code",
   "execution_count": 9,
   "metadata": {},
   "outputs": [
    {
     "name": "stdout",
     "output_type": "stream",
     "text": [
      "Number of nodes: 34\n",
      "Number of edges: 78\n",
      "Density: 0.13903743315508021\n"
     ]
    }
   ],
   "source": [
    "# Question 1: \n",
    "# a) Calculate the number of nodes in the Karate Club graph, G\n",
    "# b) Calculate the number of edges in the Karate Club graph, G\n",
    "# c) Calculate the density of the Karate Club graph, G Add karate club graph onto G object\n",
    "\n",
    "# Add karate club graph to G object\n",
    "G = nx.karate_club_graph()\n",
    "\n",
    "# Calculate the number of nodes in G\n",
    "n = nx.number_of_nodes(G)\n",
    "print(\"Number of nodes: %s\" % n)\n",
    "\n",
    "# Calculate the number of edges in G\n",
    "e = nx.number_of_edges(G)\n",
    "print(\"Number of edges: %s\" % e)\n",
    "\n",
    "# Calculate the density of G\n",
    "D = nx.density(G)\n",
    "print(\"Density: %s\" % D)"
   ]
  }
 ],
 "metadata": {
  "kernelspec": {
   "display_name": "Python 3",
   "language": "python",
   "name": "python3"
  },
  "language_info": {
   "codemirror_mode": {
    "name": "ipython",
    "version": 3
   },
   "file_extension": ".py",
   "mimetype": "text/x-python",
   "name": "python",
   "nbconvert_exporter": "python",
   "pygments_lexer": "ipython3",
   "version": "3.7.3"
  }
 },
 "nbformat": 4,
 "nbformat_minor": 4
}
